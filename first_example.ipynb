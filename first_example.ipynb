{
  "nbformat": 4,
  "nbformat_minor": 0,
  "metadata": {
    "colab": {
      "provenance": [],
      "authorship_tag": "ABX9TyMvJch21T8+fBUkPecFqFYT",
      "include_colab_link": true
    },
    "kernelspec": {
      "name": "python3",
      "display_name": "Python 3"
    },
    "language_info": {
      "name": "python"
    },
    "accelerator": "TPU",
    "gpuClass": "standard"
  },
  "cells": [
    {
      "cell_type": "markdown",
      "metadata": {
        "id": "view-in-github",
        "colab_type": "text"
      },
      "source": [
        "<a href=\"https://colab.research.google.com/github/s1scottd/ColabStorage/blob/main/first_example.ipynb\" target=\"_parent\"><img src=\"https://colab.research.google.com/assets/colab-badge.svg\" alt=\"Open In Colab\"/></a>"
      ]
    },
    {
      "cell_type": "code",
      "execution_count": 15,
      "metadata": {
        "colab": {
          "base_uri": "https://localhost:8080/"
        },
        "id": "4BXdjnGnTKIc",
        "outputId": "f61bbef8-8d16-4013-9a64-d092e42f7484"
      },
      "outputs": [
        {
          "output_type": "stream",
          "name": "stdout",
          "text": [
            "3\n",
            "(60000, 28, 28)\n",
            "uint8\n",
            "60000\n",
            "[5 0 4 ... 5 6 8]\n",
            "3\n",
            "(10000, 28, 28)\n",
            "uint8\n",
            "10000\n",
            "[7 2 1 ... 4 5 6]\n",
            "2\n",
            "60000\n",
            "[5 0 4 ... 5 6 8]\n",
            "(60000, 784)\n",
            "float32\n",
            "2\n",
            "10000\n",
            "[7 2 1 ... 4 5 6]\n",
            "(10000, 784)\n",
            "float32\n",
            "Epoch 1/5\n",
            "469/469 [==============================] - 5s 10ms/step - loss: 0.2647 - accuracy: 0.9247\n",
            "Epoch 2/5\n",
            "469/469 [==============================] - 7s 14ms/step - loss: 0.1074 - accuracy: 0.9687\n",
            "Epoch 3/5\n",
            "469/469 [==============================] - 6s 12ms/step - loss: 0.0693 - accuracy: 0.9789\n",
            "Epoch 4/5\n",
            "469/469 [==============================] - 6s 12ms/step - loss: 0.0504 - accuracy: 0.9847\n",
            "Epoch 5/5\n",
            "469/469 [==============================] - 6s 13ms/step - loss: 0.0374 - accuracy: 0.9890\n"
          ]
        },
        {
          "output_type": "execute_result",
          "data": {
            "text/plain": [
              "<keras.callbacks.History at 0x7f64a5670ee0>"
            ]
          },
          "metadata": {},
          "execution_count": 15
        }
      ],
      "source": [
        "from tensorflow import keras\n",
        "from keras.datasets import mnist\n",
        "from keras import layers\n",
        " \n",
        "(train_images, train_labels), (test_images, test_labels) = mnist.load_data()\n",
        "\n",
        "print(train_images.ndim)\n",
        "print(train_images.shape)\n",
        "print(train_images.dtype)\n",
        "print(len(train_labels))\n",
        "print(train_labels)\n",
        "\n",
        "print(test_images.ndim)\n",
        "print(test_images.shape)\n",
        "print(test_images.dtype)\n",
        "print(len(test_labels))\n",
        "print(test_labels)\n",
        "\n",
        "model = keras.Sequential([layers.Dense(512, activation=\"relu\"), layers.Dense(10, activation=\"softmax\")])\n",
        "\n",
        "model.compile(optimizer=\"rmsprop\", loss=\"sparse_categorical_crossentropy\", metrics=[\"accuracy\"])\n",
        "train_images = train_images.reshape((60000, 28 * 28))\n",
        "train_images = train_images.astype(\"float32\")/255\n",
        "test_images = test_images.reshape((10000, 28 * 28))\n",
        "test_images = test_images.astype(\"float32\")/255\n",
        "\n",
        "print(train_images.ndim)\n",
        "print(len(train_labels))\n",
        "print(train_labels)\n",
        "print(train_images.shape)\n",
        "print(train_images.dtype)\n",
        "print(test_images.ndim)\n",
        "print(len(test_labels))\n",
        "print(test_labels)\n",
        "print(test_images.shape)\n",
        "print(test_images.dtype)\n",
        "\n",
        "model.fit(train_images, train_labels,epochs=5, batch_size=128)"
      ]
    },
    {
      "cell_type": "code",
      "source": [
        "# Make a prediction\n",
        "test_digits = test_images[0:10]\n",
        "predictions = model.predict(test_digits)\n",
        "print(predictions[0])\n",
        "print(predictions[0].argmax())\n",
        "print(predictions[0][7])"
      ],
      "metadata": {
        "colab": {
          "base_uri": "https://localhost:8080/"
        },
        "id": "Qzn1-kAKZYQb",
        "outputId": "2b1071bf-f871-4f80-9f04-ff54de97b6d3"
      },
      "execution_count": 16,
      "outputs": [
        {
          "output_type": "stream",
          "name": "stdout",
          "text": [
            "1/1 [==============================] - 0s 56ms/step\n",
            "[5.6031602e-08 2.2565558e-09 2.9937635e-06 1.3585661e-05 1.8452499e-12\n",
            " 2.5010321e-08 1.5333328e-12 9.9998242e-01 1.1172301e-08 8.7826476e-07]\n",
            "7\n",
            "0.9999824\n"
          ]
        }
      ]
    },
    {
      "cell_type": "code",
      "source": [
        "test_loss, test_acc = model.evaluate(test_images, test_labels)\n",
        "print(f\"test_acc:{test_acc}\")"
      ],
      "metadata": {
        "colab": {
          "base_uri": "https://localhost:8080/"
        },
        "id": "ZuTRpKO9c4eh",
        "outputId": "986c165d-15ef-41c1-a57f-95a5fbac4312"
      },
      "execution_count": 17,
      "outputs": [
        {
          "output_type": "stream",
          "name": "stdout",
          "text": [
            "313/313 [==============================] - 1s 3ms/step - loss: 0.0594 - accuracy: 0.9810\n",
            "test_acc:0.9810000061988831\n"
          ]
        }
      ]
    }
  ]
}