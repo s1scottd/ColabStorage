{
  "nbformat": 4,
  "nbformat_minor": 0,
  "metadata": {
    "colab": {
      "provenance": [],
      "gpuType": "T4",
      "authorship_tag": "ABX9TyOMBOWFlPNupN2qgRJCDC5a",
      "include_colab_link": true
    },
    "kernelspec": {
      "name": "python3",
      "display_name": "Python 3"
    },
    "language_info": {
      "name": "python"
    },
    "accelerator": "GPU",
    "gpuClass": "standard"
  },
  "cells": [
    {
      "cell_type": "markdown",
      "metadata": {
        "id": "view-in-github",
        "colab_type": "text"
      },
      "source": [
        "<a href=\"https://colab.research.google.com/github/s1scottd/ColabStorage/blob/main/Personal_Project_1.ipynb\" target=\"_parent\"><img src=\"https://colab.research.google.com/assets/colab-badge.svg\" alt=\"Open In Colab\"/></a>"
      ]
    },
    {
      "cell_type": "code",
      "execution_count": 62,
      "metadata": {
        "id": "JHxvVn5pQOuS"
      },
      "outputs": [],
      "source": [
        "import os\n",
        "import numpy as np\n",
        "import tensorflow as tf\n",
        "from tensorflow import keras"
      ]
    },
    {
      "cell_type": "markdown",
      "source": [
        "**Read in the mnist dataset.**"
      ],
      "metadata": {
        "id": "IedmmaidqLBh"
      }
    },
    {
      "cell_type": "code",
      "source": [
        "(x_train, y_train), (x_test, y_test) = keras.datasets.mnist.load_data()\n",
        "print(f\"x_train shape: {x_train.shape}\")\n",
        "print(f\"y_train shape: {y_train.shape}\")\n",
        "print(f\"x_test shape:  {x_test.shape}\")\n",
        "print(f\"y_test shape:  {y_test.shape}\")"
      ],
      "metadata": {
        "id": "Tw8Il7huQeWZ",
        "colab": {
          "base_uri": "https://localhost:8080/"
        },
        "outputId": "c9d623bb-4981-4d5a-81b8-c1350f48f8dc"
      },
      "execution_count": 63,
      "outputs": [
        {
          "output_type": "stream",
          "name": "stdout",
          "text": [
            "x_train shape: (60000, 28, 28)\n",
            "y_train shape: (60000,)\n",
            "x_test shape:  (10000, 28, 28)\n",
            "y_test shape:  (10000,)\n"
          ]
        }
      ]
    },
    {
      "cell_type": "markdown",
      "source": [
        "**Reshape the data to (number of samples, 28, 28, 1).  Normalize the data as floating point.**"
      ],
      "metadata": {
        "id": "6jd5r2GVqS6W"
      }
    },
    {
      "cell_type": "code",
      "source": [
        "def reshape_and_nornmalize(data):\n",
        "  shape = data.shape\n",
        "  data = np.reshape(data,(shape[0],28,28,1))\n",
        "  data = data/255.\n",
        "  return data"
      ],
      "metadata": {
        "id": "dLmUbyZtRITR"
      },
      "execution_count": 64,
      "outputs": []
    },
    {
      "cell_type": "code",
      "source": [
        "x_train = reshape_and_nornmalize(x_train)\n",
        "x_test = reshape_and_nornmalize(x_test) \n",
        "print(f\"x_train shape: {x_train.shape}\")\n",
        "print(f\"x_test shape:  {x_test.shape}\")"
      ],
      "metadata": {
        "colab": {
          "base_uri": "https://localhost:8080/"
        },
        "id": "iLFpSDm-TIvw",
        "outputId": "83f1a84f-8928-465c-c0b3-dd39070e67d5"
      },
      "execution_count": 65,
      "outputs": [
        {
          "output_type": "stream",
          "name": "stdout",
          "text": [
            "x_train shape: (60000, 28, 28, 1)\n",
            "x_test shape:  (10000, 28, 28, 1)\n"
          ]
        }
      ]
    },
    {
      "cell_type": "markdown",
      "source": [
        "**Create the model and compile it.**"
      ],
      "metadata": {
        "id": "iNScLpoDuDP2"
      }
    },
    {
      "cell_type": "code",
      "source": [
        "def convolutional_model():\n",
        "  model = tf.keras.models.Sequential([\n",
        "      tf.keras.layers.Conv2D(32, (3,3), activation=\"relu\", input_shape=(28,28,1)),\n",
        "      tf.keras.layers.MaxPooling2D((2,2)),\n",
        "      tf.keras.layers.Flatten(),\n",
        "      tf.keras.layers.Dense(128, activation = \"relu\"),\n",
        "      tf.keras.layers.Dense(10, activation=\"softmax\")\n",
        "  ])\n",
        "\n",
        "  model.compile(optimizer=\"adam\", loss=\"sparse_categorical_crossentropy\", metrics=[\"accuracy\"])\n",
        "  \n",
        "  return model"
      ],
      "metadata": {
        "id": "nHXousB_Td3A"
      },
      "execution_count": 66,
      "outputs": []
    },
    {
      "cell_type": "code",
      "source": [
        "model = convolutional_model()\n",
        "\n",
        "print(f\"\\nSummary of the model\")\n",
        "model.summary()"
      ],
      "metadata": {
        "colab": {
          "base_uri": "https://localhost:8080/"
        },
        "id": "LMfz60EVWfJd",
        "outputId": "9649b668-3e51-443a-e36f-c83dd52745a2"
      },
      "execution_count": 67,
      "outputs": [
        {
          "output_type": "stream",
          "name": "stdout",
          "text": [
            "\n",
            "Summary of the model\n",
            "Model: \"sequential_2\"\n",
            "_________________________________________________________________\n",
            " Layer (type)                Output Shape              Param #   \n",
            "=================================================================\n",
            " conv2d_2 (Conv2D)           (None, 26, 26, 32)        320       \n",
            "                                                                 \n",
            " max_pooling2d_2 (MaxPooling  (None, 13, 13, 32)       0         \n",
            " 2D)                                                             \n",
            "                                                                 \n",
            " flatten_2 (Flatten)         (None, 5408)              0         \n",
            "                                                                 \n",
            " dense_4 (Dense)             (None, 128)               692352    \n",
            "                                                                 \n",
            " dense_5 (Dense)             (None, 10)                1290      \n",
            "                                                                 \n",
            "=================================================================\n",
            "Total params: 693,962\n",
            "Trainable params: 693,962\n",
            "Non-trainable params: 0\n",
            "_________________________________________________________________\n"
          ]
        }
      ]
    },
    {
      "cell_type": "markdown",
      "source": [
        "**Create a callback that will stop fitting the model once it reaches 99.5% accuracy.**"
      ],
      "metadata": {
        "id": "7Y6jaMF4p7fa"
      }
    },
    {
      "cell_type": "code",
      "source": [
        "class my_callback(tf.keras.callbacks.Callback):\n",
        "  def on_epoch_end(self, epoch, logs=[]):\n",
        "    if (logs.get(\"accuracy\") >= 0.995):\n",
        "      self.model.stop_training = True\n",
        "      print(f\"\\nReached 99.5% accuracy so cancelling training after {epoch} epochs.\")"
      ],
      "metadata": {
        "id": "oW7AuVCaq0UU"
      },
      "execution_count": 68,
      "outputs": []
    },
    {
      "cell_type": "markdown",
      "source": [
        "**Fit the model.**"
      ],
      "metadata": {
        "id": "Jp4s-t82q5n6"
      }
    },
    {
      "cell_type": "code",
      "source": [
        "print(f\"\\nFit Model\")\n",
        "\n",
        "callbacks = my_callback()\n",
        "\n",
        "history = model.fit(x_train, y_train, epochs=10, callbacks=[callbacks], verbose=2)"
      ],
      "metadata": {
        "colab": {
          "base_uri": "https://localhost:8080/"
        },
        "id": "SCbjtuLqGkb-",
        "outputId": "7c2da589-d472-4bb6-c1b9-f1339632325f"
      },
      "execution_count": 69,
      "outputs": [
        {
          "output_type": "stream",
          "name": "stdout",
          "text": [
            "\n",
            "Fit Model\n",
            "Epoch 1/10\n",
            "1875/1875 - 6s - loss: 0.1487 - accuracy: 0.9562 - 6s/epoch - 3ms/step\n",
            "Epoch 2/10\n",
            "1875/1875 - 5s - loss: 0.0518 - accuracy: 0.9845 - 5s/epoch - 2ms/step\n",
            "Epoch 3/10\n",
            "1875/1875 - 4s - loss: 0.0324 - accuracy: 0.9897 - 4s/epoch - 2ms/step\n",
            "Epoch 4/10\n",
            "1875/1875 - 6s - loss: 0.0219 - accuracy: 0.9930 - 6s/epoch - 3ms/step\n",
            "Epoch 5/10\n",
            "\n",
            "Reached 99.5% accuracy so cancelling training after 4 epochs.\n",
            "1875/1875 - 4s - loss: 0.0138 - accuracy: 0.9956 - 4s/epoch - 2ms/step\n"
          ]
        }
      ]
    },
    {
      "cell_type": "markdown",
      "source": [
        "**Evaluate the model**"
      ],
      "metadata": {
        "id": "IErAJWqpvWAb"
      }
    },
    {
      "cell_type": "code",
      "source": [
        "# Evaluate on the test set\n",
        "print(f'\\nEvaluate Model:')\n",
        "test_loss = model.evaluate(x_test, y_test)"
      ],
      "metadata": {
        "id": "EllIGyH7Q1mz",
        "colab": {
          "base_uri": "https://localhost:8080/"
        },
        "outputId": "2c36c641-f479-49e2-ca96-e17bfc06adbd"
      },
      "execution_count": 70,
      "outputs": [
        {
          "output_type": "stream",
          "name": "stdout",
          "text": [
            "\n",
            "Evaluate Model:\n",
            "313/313 [==============================] - 1s 2ms/step - loss: 0.0479 - accuracy: 0.9852\n"
          ]
        }
      ]
    }
  ]
}