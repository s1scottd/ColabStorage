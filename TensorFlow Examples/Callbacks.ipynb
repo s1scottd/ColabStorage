{
  "nbformat": 4,
  "nbformat_minor": 0,
  "metadata": {
    "colab": {
      "provenance": [],
      "gpuType": "T4",
      "private_outputs": true,
      "authorship_tag": "ABX9TyOeqW+Uloco0cqc5k62XXMD",
      "include_colab_link": true
    },
    "kernelspec": {
      "name": "python3",
      "display_name": "Python 3"
    },
    "language_info": {
      "name": "python"
    },
    "accelerator": "GPU",
    "gpuClass": "standard"
  },
  "cells": [
    {
      "cell_type": "markdown",
      "metadata": {
        "id": "view-in-github",
        "colab_type": "text"
      },
      "source": [
        "<a href=\"https://colab.research.google.com/github/s1scottd/ColabStorage/blob/main/TensorFlow%20Examples/Callbacks.ipynb\" target=\"_parent\"><img src=\"https://colab.research.google.com/assets/colab-badge.svg\" alt=\"Open In Colab\"/></a>"
      ]
    },
    {
      "cell_type": "code",
      "execution_count": null,
      "metadata": {
        "id": "JHxvVn5pQOuS"
      },
      "outputs": [],
      "source": [
        "import os\n",
        "import tensorflow as tf\n",
        "import matplotlib.pyplot as plt\n",
        "import numpy as np\n",
        "\n",
        "from tensorflow import keras\n",
        "from keras.datasets import mnist\n",
        "from keras import layers"
      ]
    },
    {
      "cell_type": "markdown",
      "source": [
        "**Read in the mnist dataset.**"
      ],
      "metadata": {
        "id": "IedmmaidqLBh"
      }
    },
    {
      "cell_type": "code",
      "source": [
        "(x_train, y_train), (x_test, y_test) = keras.datasets.mnist.load_data()\n",
        "print(f\"x_train shape: {x_train.shape}\")\n",
        "print(f\"y_train shape: {y_train.shape}\")\n",
        "print(f\"x_test shape:  {x_test.shape}\")\n",
        "print(f\"y_test shape:  {y_test.shape}\")"
      ],
      "metadata": {
        "id": "Tw8Il7huQeWZ"
      },
      "execution_count": null,
      "outputs": []
    },
    {
      "cell_type": "markdown",
      "source": [
        "**Reshape the data to (number of samples, 28, 28, 1).  Normalize the data as floating point.**"
      ],
      "metadata": {
        "id": "6jd5r2GVqS6W"
      }
    },
    {
      "cell_type": "code",
      "source": [
        "def reshape_and_nornmalize(data):\n",
        "  shape = data.shape\n",
        "  data = np.reshape(data,(shape[0],28,28,1))\n",
        "  data = data/255.\n",
        "  return data"
      ],
      "metadata": {
        "id": "dLmUbyZtRITR"
      },
      "execution_count": null,
      "outputs": []
    },
    {
      "cell_type": "code",
      "source": [
        "x_train = reshape_and_nornmalize(x_train)\n",
        "x_test = reshape_and_nornmalize(x_test) \n",
        "\n",
        "print(f\"x_train shape: {x_train.shape}\")\n",
        "print(f\"x_test shape:  {x_test.shape}\")"
      ],
      "metadata": {
        "id": "iLFpSDm-TIvw"
      },
      "execution_count": null,
      "outputs": []
    },
    {
      "cell_type": "markdown",
      "source": [
        "**Create the model and compile it.**"
      ],
      "metadata": {
        "id": "iNScLpoDuDP2"
      }
    },
    {
      "cell_type": "code",
      "source": [
        "model = tf.keras.models.Sequential([\n",
        "    tf.keras.layers.Flatten(),\n",
        "    tf.keras.layers.Dense(128, activation = \"relu\"),\n",
        "    tf.keras.layers.Dense(10, activation=\"softmax\")\n",
        "])\n",
        "\n",
        "model.compile(optimizer=\"adam\", loss=\"sparse_categorical_crossentropy\", metrics=[\"accuracy\"])"
      ],
      "metadata": {
        "id": "LMfz60EVWfJd"
      },
      "execution_count": null,
      "outputs": []
    },
    {
      "cell_type": "markdown",
      "source": [
        "**Create a callback that will stop fitting the model once it reaches 99.5% accuracy.**"
      ],
      "metadata": {
        "id": "7Y6jaMF4p7fa"
      }
    },
    {
      "cell_type": "code",
      "source": [
        "class my_callback(tf.keras.callbacks.Callback):\n",
        "  def on_epoch_end(self, epoch, logs=[]):\n",
        "    if (logs.get(\"accuracy\") >= 0.995):\n",
        "      self.model.stop_training = True\n",
        "      print(f\"\\nReached 99.5% accuracy so cancelling training after {epoch} epochs.\\n\")"
      ],
      "metadata": {
        "id": "oW7AuVCaq0UU"
      },
      "execution_count": null,
      "outputs": []
    },
    {
      "cell_type": "markdown",
      "source": [
        "**Fit the model.**"
      ],
      "metadata": {
        "id": "Jp4s-t82q5n6"
      }
    },
    {
      "cell_type": "code",
      "source": [
        "print(f\"\\nFit Model:\\n\")\n",
        "\n",
        "callbacks = my_callback()\n",
        "\n",
        "history = model.fit(x_train, y_train, epochs=10, callbacks=[callbacks])"
      ],
      "metadata": {
        "id": "SCbjtuLqGkb-"
      },
      "execution_count": null,
      "outputs": []
    },
    {
      "cell_type": "markdown",
      "source": [
        "**Evaluate the model**"
      ],
      "metadata": {
        "id": "n_bHb2_mbmMW"
      }
    },
    {
      "cell_type": "code",
      "source": [
        "model.evaluate(x_test, y_test)"
      ],
      "metadata": {
        "id": "lZ31jOuUaTfy"
      },
      "execution_count": null,
      "outputs": []
    },
    {
      "cell_type": "markdown",
      "source": [
        "**Use the model to predict**"
      ],
      "metadata": {
        "id": "G3Jy8nbPbqD6"
      }
    },
    {
      "cell_type": "code",
      "source": [
        "classifications = model.predict(x_test)\n",
        "\n",
        "for i in range(0,10):\n",
        "  digit = x_test[i]\n",
        "  plt.imshow(digit, cmap=plt.cm.binary)\n",
        "  plt.show()\n",
        "  print(f\"\\nx_test[{i}]: {classifications[i]}\")\n",
        "  print(f\"y_test[{i}]: {y_test[i]}\\n\\n\")"
      ],
      "metadata": {
        "id": "2WMo2Hb2amVM"
      },
      "execution_count": null,
      "outputs": []
    }
  ]
}